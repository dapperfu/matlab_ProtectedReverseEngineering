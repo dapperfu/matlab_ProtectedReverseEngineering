{
 "cells": [
  {
   "cell_type": "code",
   "execution_count": 2,
   "metadata": {},
   "outputs": [],
   "source": [
    "import glob"
   ]
  },
  {
   "cell_type": "code",
   "execution_count": 3,
   "metadata": {},
   "outputs": [
    {
     "data": {
      "text/plain": [
       "['./pcode_src/secret_multiplier.m',\n",
       " './pcode_src/secret_answerer.m',\n",
       " './pcode_src/secret_adder.m']"
      ]
     },
     "execution_count": 3,
     "metadata": {},
     "output_type": "execute_result"
    }
   ],
   "source": [
    "glob.glob(\"./pcode_src/*.m\")"
   ]
  },
  {
   "cell_type": "code",
   "execution_count": 5,
   "metadata": {},
   "outputs": [
    {
     "name": "stdout",
     "output_type": "stream",
     "text": [
      "./pcode_src/secret_multiplier.m\n",
      "function c = secret_multiplier(a,b)\n",
      "c = a*b;\n",
      "\n",
      "./pcode_src/secret_answerer.m\n",
      "function d = secret_answerer\n",
      "%% Secret Code\n",
      "c = secret_adder(1, 2);\n",
      "d = secret_multiplier(c, 14);\n",
      "\n",
      "\n",
      "./pcode_src/secret_adder.m\n",
      "function c = secret_adder(a,b)\n",
      "c = a + b;\n",
      "\n"
     ]
    }
   ],
   "source": [
    "for src in glob.glob(\"./pcode_src/*.m\"):\n",
    "    with open(src, \"r\") as fid:\n",
    "        print(f\"{src}\")\n",
    "        print(fid.read())\n",
    "        \n",
    "    print()"
   ]
  },
  {
   "cell_type": "code",
   "execution_count": null,
   "metadata": {},
   "outputs": [],
   "source": [
    "secret_answerer"
   ]
  }
 ],
 "metadata": {
  "kernelspec": {
   "display_name": "Python 3",
   "language": "python",
   "name": "python3"
  },
  "language_info": {
   "codemirror_mode": {
    "name": "ipython",
    "version": 3
   },
   "file_extension": ".py",
   "mimetype": "text/x-python",
   "name": "python",
   "nbconvert_exporter": "python",
   "pygments_lexer": "ipython3",
   "version": "3.7.5"
  }
 },
 "nbformat": 4,
 "nbformat_minor": 2
}
