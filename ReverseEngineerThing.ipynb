{
 "cells": [
  {
   "cell_type": "code",
   "execution_count": 32,
   "metadata": {},
   "outputs": [],
   "source": [
    "template = \"\"\"function varargout={fcn_name}(varargin)\n",
    "varargout={{}};\n",
    "wrapped_fcn = sprintf('%s2', mfilename);\n",
    "if nargout(wrapped_fcn)==0\n",
    "    feval(wrapped_fcn, varargin{{:}});\n",
    "else\n",
    "    out = feval(wrapped_fcn, varargin{{:}});\n",
    "    if ~isempty(out)\n",
    "        varargout=out{{:}};\n",
    "    end\n",
    "end\n",
    "\"\"\""
   ]
  },
  {
   "cell_type": "code",
   "execution_count": 33,
   "metadata": {},
   "outputs": [],
   "source": [
    "import glob"
   ]
  },
  {
   "cell_type": "code",
   "execution_count": 34,
   "metadata": {},
   "outputs": [
    {
     "data": {
      "text/plain": [
       "['secret_adder.p']"
      ]
     },
     "execution_count": 34,
     "metadata": {},
     "output_type": "execute_result"
    }
   ],
   "source": [
    "protected_files = glob.glob(\"*.p\")\n",
    "protected_files"
   ]
  },
  {
   "cell_type": "code",
   "execution_count": 35,
   "metadata": {},
   "outputs": [],
   "source": [
    "for protected_file in protected_files:\n",
    "    break"
   ]
  },
  {
   "cell_type": "code",
   "execution_count": 36,
   "metadata": {},
   "outputs": [],
   "source": [
    "import os"
   ]
  },
  {
   "cell_type": "code",
   "execution_count": 37,
   "metadata": {},
   "outputs": [],
   "source": [
    "fcn_name = os.path.splitext(os.path.basename(protected_file))[0]"
   ]
  },
  {
   "cell_type": "code",
   "execution_count": 38,
   "metadata": {},
   "outputs": [
    {
     "name": "stdout",
     "output_type": "stream",
     "text": [
      "function varargout=secret_adder(varargin)\n",
      "varargout={};\n",
      "wrapped_fcn = sprintf('%s2', mfilename);\n",
      "if nargout(wrapped_fcn)==0\n",
      "    feval(wrapped_fcn, varargin{:});\n",
      "else\n",
      "    out = feval(wrapped_fcn, varargin{:});\n",
      "    if ~isempty(out)\n",
      "        varargout=out{:}\n",
      "    end\n",
      "end\n",
      "\n"
     ]
    }
   ],
   "source": [
    "print(template.format(fcn_name=fcn_name))"
   ]
  }
 ],
 "metadata": {
  "kernelspec": {
   "display_name": "Python 3",
   "language": "python",
   "name": "python3"
  },
  "language_info": {
   "codemirror_mode": {
    "name": "ipython",
    "version": 3
   },
   "file_extension": ".py",
   "mimetype": "text/x-python",
   "name": "python",
   "nbconvert_exporter": "python",
   "pygments_lexer": "ipython3",
   "version": "3.7.5"
  }
 },
 "nbformat": 4,
 "nbformat_minor": 2
}
